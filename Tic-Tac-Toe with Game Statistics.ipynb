{
 "cells": [
  {
   "cell_type": "code",
   "execution_count": 1,
   "id": "b2eaad37",
   "metadata": {},
   "outputs": [],
   "source": [
    "# Tic-Tac-Toe\n",
    "from IPython.display import clear_output\n",
    "# Display Board\n",
    "def display(n_lst):\n",
    "    clear_output()\n",
    "    print('| ', n_lst[7], '| ', n_lst[8], ' | ', n_lst[9], '|')\n",
    "    print('| ', n_lst[4], '| ', n_lst[5], ' | ', n_lst[6], '|')\n",
    "    print('| ', n_lst[1], '| ', n_lst[2], ' | ', n_lst[3], '|')"
   ]
  },
  {
   "cell_type": "code",
   "execution_count": 2,
   "id": "28ed00c4",
   "metadata": {},
   "outputs": [
    {
     "name": "stdout",
     "output_type": "stream",
     "text": [
      "|  7 |  8  |  9 |\n",
      "|  4 |  5  |  6 |\n",
      "|  1 |  2  |  3 |\n"
     ]
    }
   ],
   "source": [
    "n_lst = ['Dummy', 1,2,3,4,5,6,7,8,9]\n",
    "display(n_lst)"
   ]
  },
  {
   "cell_type": "code",
   "execution_count": 3,
   "id": "f1be9bb6",
   "metadata": {},
   "outputs": [
    {
     "name": "stdout",
     "output_type": "stream",
     "text": [
      "|    |     |    |\n",
      "|    |     |    |\n",
      "|    |     |    |\n"
     ]
    }
   ],
   "source": [
    "n_lst = [' '] * 10\n",
    "display(n_lst)"
   ]
  },
  {
   "cell_type": "code",
   "execution_count": 4,
   "id": "23037c08",
   "metadata": {},
   "outputs": [
    {
     "name": "stdout",
     "output_type": "stream",
     "text": [
      "|  X |  X  |  X |\n",
      "|  X |  X  |  X |\n",
      "|  X |  X  |  X |\n"
     ]
    }
   ],
   "source": [
    "n_lst = [' '] * 10\n",
    "for i in range(9):\n",
    "    temp = int(input(\"Enter the input: \"))\n",
    "    n_lst[temp] = 'X'\n",
    "    display(n_lst)"
   ]
  },
  {
   "cell_type": "code",
   "execution_count": 5,
   "id": "c9f83ed1",
   "metadata": {},
   "outputs": [
    {
     "name": "stdout",
     "output_type": "stream",
     "text": [
      "|  X |  O  |  X |\n",
      "|  O |  X  |  O |\n",
      "|  X |  O  |  X |\n"
     ]
    }
   ],
   "source": [
    "n_lst = [' '] * 10\n",
    "for i in range(9):\n",
    "    temp = int(input(\"Enter the input: \"))\n",
    "    if(i%2==0):\n",
    "        n_lst[temp] = 'X'\n",
    "    else:\n",
    "        n_lst[temp] = 'O'\n",
    "    display(n_lst)"
   ]
  },
  {
   "cell_type": "code",
   "execution_count": 6,
   "id": "b7655b2b",
   "metadata": {},
   "outputs": [],
   "source": [
    "#Check winning condition \n",
    "#Winning cases - 1,2,3 - 4,5,6 - 7,8,9 - 1,4,7 - 2,5,8 - 3,6,9 - 1,5,9 - 3,5,7\n",
    "#Check all the eight cases\n",
    "def check_winning_condition(mark, n_lst):\n",
    "    if(((n_lst[1] == mark) and (n_lst[2] == mark) and (n_lst[3] == mark)) or\n",
    "    ((n_lst[4] == mark) and (n_lst[5] == mark) and (n_lst[6] == mark)) or \n",
    "    ((n_lst[7] == mark) and (n_lst[8] == mark) and (n_lst[9] == mark)) or \n",
    "    ((n_lst[1] == mark) and (n_lst[4] == mark) and (n_lst[7] == mark)) or\n",
    "    ((n_lst[2] == mark) and (n_lst[5] == mark) and (n_lst[8] == mark)) or\n",
    "    ((n_lst[3] == mark) and (n_lst[6] == mark) and (n_lst[9] == mark)) or\n",
    "    ((n_lst[1] == mark) and (n_lst[5] == mark) and (n_lst[9] == mark)) or\n",
    "    ((n_lst[3] == mark) and (n_lst[5] == mark) and (n_lst[7] == mark))):\n",
    "        return 1\n",
    "    else:\n",
    "        return 0"
   ]
  },
  {
   "cell_type": "code",
   "execution_count": 7,
   "id": "b55a587c",
   "metadata": {},
   "outputs": [
    {
     "name": "stdout",
     "output_type": "stream",
     "text": [
      "|  O |     |  X |\n",
      "|  O |  X  |    |\n",
      "|  X |  O  |  X |\n",
      "Player1 won the match!\n"
     ]
    }
   ],
   "source": [
    "n_lst = [' '] * 10\n",
    "for i in range(9):\n",
    "    temp = int(input(\"Enter the input: \"))\n",
    "    if(i%2==0):\n",
    "        n_lst[temp] = 'X'\n",
    "        mark = 'X'\n",
    "        temp1 = check_winning_condition('X', n_lst)\n",
    "    else:\n",
    "        n_lst[temp] = 'O'\n",
    "        mark = 'O'\n",
    "        temp1 = check_winning_condition('O', n_lst)\n",
    "    display(n_lst)\n",
    "    if(temp1 == 1):\n",
    "        break\n",
    "if(temp1 == 1):\n",
    "    if(i%2 == 0):\n",
    "        print(\"Player1 won the match!\")\n",
    "    else:\n",
    "        print(\"Player2 won the match!\")\n",
    "else:\n",
    "    print(\"Match tie!\")"
   ]
  },
  {
   "cell_type": "code",
   "execution_count": 8,
   "id": "f67e033c",
   "metadata": {},
   "outputs": [],
   "source": [
    "while(True):\n",
    "    n_lst = [' '] * 10\n",
    "    for i in range(9):\n",
    "        temp = int(input(\"Enter the input: \"))\n",
    "        if(i%2==0):\n",
    "            n_lst[temp] = 'X'\n",
    "            mark = 'X'\n",
    "            temp1 = check_winning_condition('X', n_lst)\n",
    "        else:\n",
    "            n_lst[temp] = 'O'\n",
    "            mark = 'O'\n",
    "            temp1 = check_winning_condition('O', n_lst)\n",
    "        display(n_lst)\n",
    "        if(temp1 == 1):\n",
    "            break\n",
    "    if(temp1 == 1):\n",
    "        if(i%2 == 0):\n",
    "            print(\"Player1 won the match!\")\n",
    "        else:\n",
    "            print(\"Player2 won the match!\")\n",
    "    else:\n",
    "        print(\"Match tie!\")\n",
    "    replay_status = input(\"Do you want to play again? \")\n",
    "    if(replay_status == 'yes'):\n",
    "        clear_output()\n",
    "    else:\n",
    "        clear_output()\n",
    "        break"
   ]
  },
  {
   "cell_type": "code",
   "execution_count": 9,
   "id": "e3e95250",
   "metadata": {},
   "outputs": [
    {
     "name": "stdout",
     "output_type": "stream",
     "text": [
      "Total matches played = 3\n",
      "Number of matches won by Rishabh = 2\n",
      "Number of matches won by Devansh = 0\n",
      "Tie count = 1\n"
     ]
    }
   ],
   "source": [
    "#Added names to players\n",
    "#Added the game play statistics\n",
    "#Total number of matches played, winning count of player1, winning count of player2, number of match ties\n",
    "#Homework - Add game statistics in CSV file. \n",
    "#Homework - Add option to display game stats using plots made by using matplotlib, seaborn, or plotly.\n",
    "player1_name = input('Enter Player1 name: ')\n",
    "player2_name = input('Enter Player2 name: ')\n",
    "winning_count_p1 = 0\n",
    "winning_count_p2 = 0\n",
    "tie_count = 0\n",
    "while(True):\n",
    "    n_lst = [' '] * 10\n",
    "    display(n_lst)\n",
    "    player1_mark = input(str(player1_name) + \", please enter your choice! - 'X' or 'O': \")\n",
    "    if(player1_mark.upper() == 'X'):\n",
    "        player1_mark = 'X'\n",
    "        player2_mark = 'O'\n",
    "    else:\n",
    "        player1_mark = 'O'\n",
    "        player2_mark = 'X'\n",
    "    for i in range(9):\n",
    "        if(i%2==0):\n",
    "            #temp = enter_valid_input(n_lst)\n",
    "            temp = int(input(str(player1_name) + ', enter the input: '))\n",
    "            n_lst[temp] = player1_mark\n",
    "            mark = player1_mark\n",
    "            temp1 = check_winning_condition(mark, n_lst)\n",
    "        else:\n",
    "            #temp = enter_valid_input(n_lst)\n",
    "            temp = int(input(str(player2_name) + ', enter the input: '))\n",
    "            n_lst[temp] = player2_mark\n",
    "            mark = player2_mark\n",
    "            temp1 = check_winning_condition(mark, n_lst)\n",
    "        display(n_lst)\n",
    "        if(temp1 == 1):\n",
    "            break\n",
    "    if(temp1 == 1):\n",
    "        if(i%2 == 0):\n",
    "            print('Hurrey! ' + str(player1_name) + ' won!')\n",
    "            winning_count_p1 = winning_count_p1 + 1\n",
    "        else:\n",
    "            print('Hurrey! ' + str(player2_name) + ' won!')\n",
    "            winning_count_p2 = winning_count_p2 + 1\n",
    "    else:\n",
    "        print('There is a tie.')\n",
    "        tie_count = tie_count + 1\n",
    "    replay_status = input('Do you want to play again? - Enter Yes or No: ')\n",
    "    if(replay_status == 'Yes'):\n",
    "        clear_output()\n",
    "    else:\n",
    "        clear_output()\n",
    "        print('Total matches played = ' + str(int(winning_count_p1 + winning_count_p2 + tie_count)))\n",
    "        print('Number of matches won by ' + str(player1_name) + ' = ' +str(winning_count_p1))\n",
    "        print('Number of matches won by ' + str(player2_name) + ' = ' +str(winning_count_p2))\n",
    "        print('Tie count = ' + str(tie_count))\n",
    "        break"
   ]
  },
  {
   "cell_type": "code",
   "execution_count": null,
   "id": "a1857cc2",
   "metadata": {},
   "outputs": [],
   "source": []
  },
  {
   "cell_type": "code",
   "execution_count": null,
   "id": "f5bbd96b",
   "metadata": {},
   "outputs": [],
   "source": []
  },
  {
   "cell_type": "code",
   "execution_count": null,
   "id": "19996bd6",
   "metadata": {},
   "outputs": [],
   "source": []
  },
  {
   "cell_type": "code",
   "execution_count": null,
   "id": "2f3bf836",
   "metadata": {},
   "outputs": [],
   "source": []
  },
  {
   "cell_type": "code",
   "execution_count": null,
   "id": "8fd8412f",
   "metadata": {},
   "outputs": [],
   "source": []
  }
 ],
 "metadata": {
  "kernelspec": {
   "display_name": "Python 3 (ipykernel)",
   "language": "python",
   "name": "python3"
  },
  "language_info": {
   "codemirror_mode": {
    "name": "ipython",
    "version": 3
   },
   "file_extension": ".py",
   "mimetype": "text/x-python",
   "name": "python",
   "nbconvert_exporter": "python",
   "pygments_lexer": "ipython3",
   "version": "3.9.12"
  }
 },
 "nbformat": 4,
 "nbformat_minor": 5
}
